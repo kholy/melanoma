{
 "cells": [
  {
   "cell_type": "markdown",
   "metadata": {},
   "source": [
    "Tutorial on https://nextjournal.com/gkoehler/pytorch-mnist"
   ]
  },
  {
   "cell_type": "code",
   "execution_count": 1,
   "metadata": {},
   "outputs": [],
   "source": [
    "import os"
   ]
  },
  {
   "cell_type": "code",
   "execution_count": 2,
   "metadata": {},
   "outputs": [],
   "source": [
    "import pandas as pd\n",
    "import numpy as np\n",
    "import matplotlib.pyplot as plt"
   ]
  },
  {
   "cell_type": "code",
   "execution_count": 3,
   "metadata": {},
   "outputs": [],
   "source": [
    "import torch\n",
    "import torchvision\n"
   ]
  },
  {
   "cell_type": "code",
   "execution_count": 4,
   "metadata": {},
   "outputs": [
    {
     "data": {
      "text/plain": [
       "<torch._C.Generator at 0x253c8992cb0>"
      ]
     },
     "execution_count": 4,
     "metadata": {},
     "output_type": "execute_result"
    }
   ],
   "source": [
    "n_epochs = 3\n",
    "batch_size_train = 64\n",
    "batch_size_test = 1000\n",
    "learning_rate = 0.01\n",
    "momentum = 0.5\n",
    "log_interval = 10\n",
    "\n",
    "random_seed = 1\n",
    "torch.backends.cudnn.enabled = False\n",
    "torch.manual_seed(random_seed)"
   ]
  },
  {
   "cell_type": "code",
   "execution_count": 5,
   "metadata": {},
   "outputs": [],
   "source": [
    "if not 'results' in os.listdir():\n",
    "    os.mkdir('results')"
   ]
  },
  {
   "cell_type": "code",
   "execution_count": 6,
   "metadata": {},
   "outputs": [],
   "source": [
    "train_loader = torch.utils.data.DataLoader(\n",
    "  torchvision.datasets.MNIST('/files/', train=True, download=True,\n",
    "                             transform=torchvision.transforms.Compose([\n",
    "                               torchvision.transforms.ToTensor(),\n",
    "                               torchvision.transforms.Normalize(\n",
    "                                 (0.1307,), (0.3081,))\n",
    "                             ])),\n",
    "  batch_size=batch_size_train, shuffle=True)\n",
    "\n",
    "test_loader = torch.utils.data.DataLoader(\n",
    "  torchvision.datasets.MNIST('/files/', train=False, download=True,\n",
    "                             transform=torchvision.transforms.Compose([\n",
    "                               torchvision.transforms.ToTensor(),\n",
    "                               torchvision.transforms.Normalize(\n",
    "                                 (0.1307,), (0.3081,))\n",
    "                             ])),\n",
    "  batch_size=batch_size_test, shuffle=True)"
   ]
  },
  {
   "cell_type": "code",
   "execution_count": 7,
   "metadata": {},
   "outputs": [],
   "source": [
    "examples = enumerate(test_loader)\n",
    "batch_idx, (example_data, example_targets) = next(examples)"
   ]
  },
  {
   "cell_type": "code",
   "execution_count": 8,
   "metadata": {},
   "outputs": [
    {
     "data": {
      "text/plain": [
       "torch.Size([1000, 1, 28, 28])"
      ]
     },
     "execution_count": 8,
     "metadata": {},
     "output_type": "execute_result"
    }
   ],
   "source": [
    "example_data.shape"
   ]
  },
  {
   "cell_type": "code",
   "execution_count": 9,
   "metadata": {},
   "outputs": [
    {
     "data": {
      "image/png": "[encoded data removed]",
      "text/plain": [
       "<Figure size 432x288 with 6 Axes>"
      ]
     },
     "execution_count": 9,
     "metadata": {},
     "output_type": "execute_result"
    },
    {
     "data": {
      "image/png": "[encoded data removed]",
      "text/plain": [
       "<Figure size 432x288 with 6 Axes>"
      ]
     },
     "metadata": {},
     "output_type": "display_data"
    }
   ],
   "source": [
    "import matplotlib.pyplot as plt\n",
    "\n",
    "fig = plt.figure()\n",
    "for i in range(6):\n",
    "  plt.subplot(2,3,i+1)\n",
    "  plt.tight_layout()\n",
    "  plt.imshow(example_data[i][0], cmap='gray', interpolation='none')\n",
    "  plt.title(\"Ground Truth: {}\".format(example_targets[i]))\n",
    "  plt.xticks([])\n",
    "  plt.yticks([])\n",
    "fig"
   ]
  },
  {
   "cell_type": "code",
   "execution_count": 10,
   "metadata": {},
   "outputs": [],
   "source": [
    "import torch.nn as nn\n",
    "import torch.nn.functional as F\n",
    "import torch.optim as optim\n"
   ]
  },
  {
   "cell_type": "code",
   "execution_count": 11,
   "metadata": {},
   "outputs": [],
   "source": [
    "class Net(nn.Module):\n",
    "    def __init__(self):\n",
    "        super(Net, self).__init__()\n",
    "        self.conv1 = nn.Conv2d(1, 10, kernel_size=5)\n",
    "        self.conv2 = nn.Conv2d(10, 20, kernel_size=5)\n",
    "        self.conv2_drop = nn.Dropout2d()\n",
    "        self.fc1 = nn.Linear(320, 50)\n",
    "        self.fc2 = nn.Linear(50, 10)\n",
    "\n",
    "    def forward(self, x):\n",
    "        x = F.relu(F.max_pool2d(self.conv1(x), 2))\n",
    "        x = F.relu(F.max_pool2d(self.conv2_drop(self.conv2(x)), 2))\n",
    "        x = x.view(-1, 320)\n",
    "        x = F.relu(self.fc1(x))\n",
    "        x = F.dropout(x, training=self.training)\n",
    "        x = self.fc2(x)\n",
    "        return F.log_softmax(x)"
   ]
  },
  {
   "cell_type": "code",
   "execution_count": 12,
   "metadata": {},
   "outputs": [],
   "source": [
    "network = Net()\n",
    "optimizer = optim.SGD(network.parameters(), lr=learning_rate,\n",
    "                      momentum=momentum)"
   ]
  },
  {
   "cell_type": "code",
   "execution_count": 13,
   "metadata": {},
   "outputs": [],
   "source": [
    "train_losses = []\n",
    "train_counter = []\n",
    "test_losses = []\n",
    "test_counter = [i*len(train_loader.dataset) for i in range(n_epochs + 1)]"
   ]
  },
  {
   "cell_type": "code",
   "execution_count": 14,
   "metadata": {},
   "outputs": [],
   "source": [
    "def train(epoch):\n",
    "  network.train()\n",
    "  for batch_idx, (data, target) in enumerate(train_loader):\n",
    "    optimizer.zero_grad()\n",
    "    output = network(data)\n",
    "    loss = F.nll_loss(output, target)\n",
    "    loss.backward()\n",
    "    optimizer.step()\n",
    "    if batch_idx % log_interval == 0:\n",
    "      print('Train Epoch: {} [{}/{} ({:.0f}%)]\\tLoss: {:.6f}'.format(\n",
    "        epoch, batch_idx * len(data), len(train_loader.dataset),\n",
    "        100. * batch_idx / len(train_loader), loss.item()))\n",
    "      train_losses.append(loss.item())\n",
    "      train_counter.append(\n",
    "        (batch_idx*64) + ((epoch-1)*len(train_loader.dataset)))\n",
    "      torch.save(network.state_dict(), 'results/model.pth')\n",
    "      torch.save(optimizer.state_dict(), 'results/optimizer.pth')"
   ]
  },
  {
   "cell_type": "code",
   "execution_count": 24,
   "metadata": {},
   "outputs": [],
   "source": [
    "def test():\n",
    "  network.eval()\n",
    "  test_loss = 0\n",
    "  correct = 0\n",
    "  with torch.no_grad():\n",
    "    for data, target in test_loader:\n",
    "      output = network(data)\n",
    "      test_loss += F.nll_loss(output, target, size_average=False).item()\n",
    "      pred = output.data.max(1, keepdim=True)[1]\n",
    "      correct += pred.eq(target.data.view_as(pred)).sum()\n",
    "  test_loss /= len(test_loader.dataset)\n",
    "  test_losses.append(test_loss)\n",
    "  print('\\nTest set: Avg. loss: {:.4f}, Accuracy: {}/{} ({:.0f}%)\\n'.format(\n",
    "    test_loss, correct, len(test_loader.dataset),\n",
    "    100. * correct / len(test_loader.dataset)))"
   ]
  },
  {
   "cell_type": "code",
   "execution_count": 25,
   "metadata": {},
   "outputs": [
    {
     "name": "stderr",
     "output_type": "stream",
     "text": [
      "C:\\Users\\MohamedEl-Khouly\\.conda\\envs\\Manning_Live_project_GPU\\lib\\site-packages\\ipykernel_launcher.py:17: UserWarning: Implicit dimension choice for log_softmax has been deprecated. Change the call to include dim=X as an argument.\n"
     ]
    },
    {
     "name": "stdout",
     "output_type": "stream",
     "text": [
      "\n",
      "Test set: Avg. loss: 0.0676, Accuracy: 9780/10000 (98%)\n",
      "\n",
      "Train Epoch: 1 [0/60000 (0%)]\tLoss: 0.273333\n",
      "Train Epoch: 1 [640/60000 (1%)]\tLoss: 0.157683\n",
      "Train Epoch: 1 [1280/60000 (2%)]\tLoss: 0.208512\n",
      "Train Epoch: 1 [1920/60000 (3%)]\tLoss: 0.214011\n",
      "Train Epoch: 1 [2560/60000 (4%)]\tLoss: 0.213451\n",
      "Train Epoch: 1 [3200/60000 (5%)]\tLoss: 0.124406\n",
      "Train Epoch: 1 [3840/60000 (6%)]\tLoss: 0.229366\n",
      "Train Epoch: 1 [4480/60000 (7%)]\tLoss: 0.160338\n",
      "Train Epoch: 1 [5120/60000 (9%)]\tLoss: 0.337973\n",
      "Train Epoch: 1 [5760/60000 (10%)]\tLoss: 0.191173\n",
      "Train Epoch: 1 [6400/60000 (11%)]\tLoss: 0.109269\n",
      "Train Epoch: 1 [7040/60000 (12%)]\tLoss: 0.371922\n",
      "Train Epoch: 1 [7680/60000 (13%)]\tLoss: 0.183109\n",
      "Train Epoch: 1 [8320/60000 (14%)]\tLoss: 0.234528\n",
      "Train Epoch: 1 [8960/60000 (15%)]\tLoss: 0.199331\n",
      "Train Epoch: 1 [9600/60000 (16%)]\tLoss: 0.154977\n",
      "Train Epoch: 1 [10240/60000 (17%)]\tLoss: 0.271982\n",
      "Train Epoch: 1 [10880/60000 (18%)]\tLoss: 0.258030\n",
      "Train Epoch: 1 [11520/60000 (19%)]\tLoss: 0.172643\n",
      "Train Epoch: 1 [12160/60000 (20%)]\tLoss: 0.138310\n",
      "Train Epoch: 1 [12800/60000 (21%)]\tLoss: 0.479752\n",
      "Train Epoch: 1 [13440/60000 (22%)]\tLoss: 0.149827\n",
      "Train Epoch: 1 [14080/60000 (23%)]\tLoss: 0.252934\n",
      "Train Epoch: 1 [14720/60000 (25%)]\tLoss: 0.380886\n",
      "Train Epoch: 1 [15360/60000 (26%)]\tLoss: 0.113648\n",
      "Train Epoch: 1 [16000/60000 (27%)]\tLoss: 0.296795\n",
      "Train Epoch: 1 [16640/60000 (28%)]\tLoss: 0.116872\n",
      "Train Epoch: 1 [17280/60000 (29%)]\tLoss: 0.395551\n",
      "Train Epoch: 1 [17920/60000 (30%)]\tLoss: 0.328863\n",
      "Train Epoch: 1 [18560/60000 (31%)]\tLoss: 0.222914\n",
      "Train Epoch: 1 [19200/60000 (32%)]\tLoss: 0.255549\n",
      "Train Epoch: 1 [19840/60000 (33%)]\tLoss: 0.229268\n",
      "Train Epoch: 1 [20480/60000 (34%)]\tLoss: 0.162223\n",
      "Train Epoch: 1 [21120/60000 (35%)]\tLoss: 0.268772\n",
      "Train Epoch: 1 [21760/60000 (36%)]\tLoss: 0.139670\n",
      "Train Epoch: 1 [22400/60000 (37%)]\tLoss: 0.254860\n",
      "Train Epoch: 1 [23040/60000 (38%)]\tLoss: 0.091157\n",
      "Train Epoch: 1 [23680/60000 (39%)]\tLoss: 0.473444\n",
      "Train Epoch: 1 [24320/60000 (41%)]\tLoss: 0.148742\n",
      "Train Epoch: 1 [24960/60000 (42%)]\tLoss: 0.058078\n",
      "Train Epoch: 1 [25600/60000 (43%)]\tLoss: 0.082671\n",
      "Train Epoch: 1 [26240/60000 (44%)]\tLoss: 0.123284\n",
      "Train Epoch: 1 [26880/60000 (45%)]\tLoss: 0.123342\n",
      "Train Epoch: 1 [27520/60000 (46%)]\tLoss: 0.249515\n",
      "Train Epoch: 1 [28160/60000 (47%)]\tLoss: 0.141588\n",
      "Train Epoch: 1 [28800/60000 (48%)]\tLoss: 0.133992\n",
      "Train Epoch: 1 [29440/60000 (49%)]\tLoss: 0.143350\n",
      "Train Epoch: 1 [30080/60000 (50%)]\tLoss: 0.216324\n",
      "Train Epoch: 1 [30720/60000 (51%)]\tLoss: 0.164435\n",
      "Train Epoch: 1 [31360/60000 (52%)]\tLoss: 0.199321\n",
      "Train Epoch: 1 [32000/60000 (53%)]\tLoss: 0.137873\n",
      "Train Epoch: 1 [32640/60000 (54%)]\tLoss: 0.165625\n",
      "Train Epoch: 1 [33280/60000 (55%)]\tLoss: 0.180706\n",
      "Train Epoch: 1 [33920/60000 (57%)]\tLoss: 0.212451\n",
      "Train Epoch: 1 [34560/60000 (58%)]\tLoss: 0.281301\n",
      "Train Epoch: 1 [35200/60000 (59%)]\tLoss: 0.482577\n",
      "Train Epoch: 1 [35840/60000 (60%)]\tLoss: 0.463719\n",
      "Train Epoch: 1 [36480/60000 (61%)]\tLoss: 0.179140\n",
      "Train Epoch: 1 [37120/60000 (62%)]\tLoss: 0.227429\n",
      "Train Epoch: 1 [37760/60000 (63%)]\tLoss: 0.210303\n",
      "Train Epoch: 1 [38400/60000 (64%)]\tLoss: 0.460452\n",
      "Train Epoch: 1 [39040/60000 (65%)]\tLoss: 0.348825\n",
      "Train Epoch: 1 [39680/60000 (66%)]\tLoss: 0.087567\n",
      "Train Epoch: 1 [40320/60000 (67%)]\tLoss: 0.075010\n",
      "Train Epoch: 1 [40960/60000 (68%)]\tLoss: 0.169337\n",
      "Train Epoch: 1 [41600/60000 (69%)]\tLoss: 0.151868\n",
      "Train Epoch: 1 [42240/60000 (70%)]\tLoss: 0.070727\n",
      "Train Epoch: 1 [42880/60000 (71%)]\tLoss: 0.191608\n",
      "Train Epoch: 1 [43520/60000 (72%)]\tLoss: 0.054286\n",
      "Train Epoch: 1 [44160/60000 (74%)]\tLoss: 0.134979\n",
      "Train Epoch: 1 [44800/60000 (75%)]\tLoss: 0.141564\n",
      "Train Epoch: 1 [45440/60000 (76%)]\tLoss: 0.150735\n",
      "Train Epoch: 1 [46080/60000 (77%)]\tLoss: 0.122630\n",
      "Train Epoch: 1 [46720/60000 (78%)]\tLoss: 0.125212\n",
      "Train Epoch: 1 [47360/60000 (79%)]\tLoss: 0.268720\n",
      "Train Epoch: 1 [48000/60000 (80%)]\tLoss: 0.299418\n",
      "Train Epoch: 1 [48640/60000 (81%)]\tLoss: 0.118719\n",
      "Train Epoch: 1 [49280/60000 (82%)]\tLoss: 0.159413\n",
      "Train Epoch: 1 [49920/60000 (83%)]\tLoss: 0.136164\n",
      "Train Epoch: 1 [50560/60000 (84%)]\tLoss: 0.268456\n",
      "Train Epoch: 1 [51200/60000 (85%)]\tLoss: 0.108174\n",
      "Train Epoch: 1 [51840/60000 (86%)]\tLoss: 0.304373\n",
      "Train Epoch: 1 [52480/60000 (87%)]\tLoss: 0.193554\n",
      "Train Epoch: 1 [53120/60000 (88%)]\tLoss: 0.137642\n",
      "Train Epoch: 1 [53760/60000 (90%)]\tLoss: 0.130884\n",
      "Train Epoch: 1 [54400/60000 (91%)]\tLoss: 0.115826\n",
      "Train Epoch: 1 [55040/60000 (92%)]\tLoss: 0.078212\n",
      "Train Epoch: 1 [55680/60000 (93%)]\tLoss: 0.110616\n",
      "Train Epoch: 1 [56320/60000 (94%)]\tLoss: 0.122982\n",
      "Train Epoch: 1 [56960/60000 (95%)]\tLoss: 0.108197\n",
      "Train Epoch: 1 [57600/60000 (96%)]\tLoss: 0.217757\n",
      "Train Epoch: 1 [58240/60000 (97%)]\tLoss: 0.139100\n",
      "Train Epoch: 1 [58880/60000 (98%)]\tLoss: 0.167957\n",
      "Train Epoch: 1 [59520/60000 (99%)]\tLoss: 0.212046\n",
      "\n",
      "Test set: Avg. loss: 0.0603, Accuracy: 9804/10000 (98%)\n",
      "\n",
      "Train Epoch: 2 [0/60000 (0%)]\tLoss: 0.210849\n",
      "Train Epoch: 2 [640/60000 (1%)]\tLoss: 0.146425\n",
      "Train Epoch: 2 [1280/60000 (2%)]\tLoss: 0.050558\n",
      "Train Epoch: 2 [1920/60000 (3%)]\tLoss: 0.400637\n",
      "Train Epoch: 2 [2560/60000 (4%)]\tLoss: 0.129528\n",
      "Train Epoch: 2 [3200/60000 (5%)]\tLoss: 0.247101\n",
      "Train Epoch: 2 [3840/60000 (6%)]\tLoss: 0.196169\n",
      "Train Epoch: 2 [4480/60000 (7%)]\tLoss: 0.144644\n",
      "Train Epoch: 2 [5120/60000 (9%)]\tLoss: 0.239911\n",
      "Train Epoch: 2 [5760/60000 (10%)]\tLoss: 0.266436\n",
      "Train Epoch: 2 [6400/60000 (11%)]\tLoss: 0.152045\n",
      "Train Epoch: 2 [7040/60000 (12%)]\tLoss: 0.222750\n",
      "Train Epoch: 2 [7680/60000 (13%)]\tLoss: 0.395377\n",
      "Train Epoch: 2 [8320/60000 (14%)]\tLoss: 0.117540\n",
      "Train Epoch: 2 [8960/60000 (15%)]\tLoss: 0.221722\n",
      "Train Epoch: 2 [9600/60000 (16%)]\tLoss: 0.104034\n",
      "Train Epoch: 2 [10240/60000 (17%)]\tLoss: 0.137676\n",
      "Train Epoch: 2 [10880/60000 (18%)]\tLoss: 0.128864\n",
      "Train Epoch: 2 [11520/60000 (19%)]\tLoss: 0.232161\n",
      "Train Epoch: 2 [12160/60000 (20%)]\tLoss: 0.237477\n",
      "Train Epoch: 2 [12800/60000 (21%)]\tLoss: 0.141701\n",
      "Train Epoch: 2 [13440/60000 (22%)]\tLoss: 0.082477\n",
      "Train Epoch: 2 [14080/60000 (23%)]\tLoss: 0.149596\n",
      "Train Epoch: 2 [14720/60000 (25%)]\tLoss: 0.146473\n",
      "Train Epoch: 2 [15360/60000 (26%)]\tLoss: 0.166444\n",
      "Train Epoch: 2 [16000/60000 (27%)]\tLoss: 0.360400\n",
      "Train Epoch: 2 [16640/60000 (28%)]\tLoss: 0.447996\n",
      "Train Epoch: 2 [17280/60000 (29%)]\tLoss: 0.197714\n",
      "Train Epoch: 2 [17920/60000 (30%)]\tLoss: 0.077799\n",
      "Train Epoch: 2 [18560/60000 (31%)]\tLoss: 0.216950\n",
      "Train Epoch: 2 [19200/60000 (32%)]\tLoss: 0.057703\n",
      "Train Epoch: 2 [19840/60000 (33%)]\tLoss: 0.351524\n",
      "Train Epoch: 2 [20480/60000 (34%)]\tLoss: 0.347975\n",
      "Train Epoch: 2 [21120/60000 (35%)]\tLoss: 0.411397\n",
      "Train Epoch: 2 [21760/60000 (36%)]\tLoss: 0.155826\n",
      "Train Epoch: 2 [22400/60000 (37%)]\tLoss: 0.133167\n",
      "Train Epoch: 2 [23040/60000 (38%)]\tLoss: 0.149321\n",
      "Train Epoch: 2 [23680/60000 (39%)]\tLoss: 0.178455\n",
      "Train Epoch: 2 [24320/60000 (41%)]\tLoss: 0.355056\n",
      "Train Epoch: 2 [24960/60000 (42%)]\tLoss: 0.191713\n",
      "Train Epoch: 2 [25600/60000 (43%)]\tLoss: 0.113921\n",
      "Train Epoch: 2 [26240/60000 (44%)]\tLoss: 0.163399\n",
      "Train Epoch: 2 [26880/60000 (45%)]\tLoss: 0.238660\n",
      "Train Epoch: 2 [27520/60000 (46%)]\tLoss: 0.196989\n",
      "Train Epoch: 2 [28160/60000 (47%)]\tLoss: 0.198602\n",
      "Train Epoch: 2 [28800/60000 (48%)]\tLoss: 0.264694\n",
      "Train Epoch: 2 [29440/60000 (49%)]\tLoss: 0.216162\n",
      "Train Epoch: 2 [30080/60000 (50%)]\tLoss: 0.233465\n",
      "Train Epoch: 2 [30720/60000 (51%)]\tLoss: 0.100476\n",
      "Train Epoch: 2 [31360/60000 (52%)]\tLoss: 0.366610\n",
      "Train Epoch: 2 [32000/60000 (53%)]\tLoss: 0.325032\n",
      "Train Epoch: 2 [32640/60000 (54%)]\tLoss: 0.254964\n",
      "Train Epoch: 2 [33280/60000 (55%)]\tLoss: 0.119075\n",
      "Train Epoch: 2 [33920/60000 (57%)]\tLoss: 0.253974\n",
      "Train Epoch: 2 [34560/60000 (58%)]\tLoss: 0.133986\n",
      "Train Epoch: 2 [35200/60000 (59%)]\tLoss: 0.285298\n",
      "Train Epoch: 2 [35840/60000 (60%)]\tLoss: 0.267726\n",
      "Train Epoch: 2 [36480/60000 (61%)]\tLoss: 0.382381\n",
      "Train Epoch: 2 [37120/60000 (62%)]\tLoss: 0.241709\n",
      "Train Epoch: 2 [37760/60000 (63%)]\tLoss: 0.203376\n",
      "Train Epoch: 2 [38400/60000 (64%)]\tLoss: 0.117256\n",
      "Train Epoch: 2 [39040/60000 (65%)]\tLoss: 0.308317\n",
      "Train Epoch: 2 [39680/60000 (66%)]\tLoss: 0.113815\n",
      "Train Epoch: 2 [40320/60000 (67%)]\tLoss: 0.220294\n",
      "Train Epoch: 2 [40960/60000 (68%)]\tLoss: 0.112511\n",
      "Train Epoch: 2 [41600/60000 (69%)]\tLoss: 0.092348\n",
      "Train Epoch: 2 [42240/60000 (70%)]\tLoss: 0.152267\n",
      "Train Epoch: 2 [42880/60000 (71%)]\tLoss: 0.123183\n",
      "Train Epoch: 2 [43520/60000 (72%)]\tLoss: 0.198947\n",
      "Train Epoch: 2 [44160/60000 (74%)]\tLoss: 0.308573\n",
      "Train Epoch: 2 [44800/60000 (75%)]\tLoss: 0.185000\n",
      "Train Epoch: 2 [45440/60000 (76%)]\tLoss: 0.094206\n",
      "Train Epoch: 2 [46080/60000 (77%)]\tLoss: 0.253088\n",
      "Train Epoch: 2 [46720/60000 (78%)]\tLoss: 0.183893\n",
      "Train Epoch: 2 [47360/60000 (79%)]\tLoss: 0.115600\n",
      "Train Epoch: 2 [48000/60000 (80%)]\tLoss: 0.117017\n",
      "Train Epoch: 2 [48640/60000 (81%)]\tLoss: 0.193889\n",
      "Train Epoch: 2 [49280/60000 (82%)]\tLoss: 0.197374\n",
      "Train Epoch: 2 [49920/60000 (83%)]\tLoss: 0.141935\n",
      "Train Epoch: 2 [50560/60000 (84%)]\tLoss: 0.304245\n",
      "Train Epoch: 2 [51200/60000 (85%)]\tLoss: 0.277418\n",
      "Train Epoch: 2 [51840/60000 (86%)]\tLoss: 0.252703\n",
      "Train Epoch: 2 [52480/60000 (87%)]\tLoss: 0.177039\n",
      "Train Epoch: 2 [53120/60000 (88%)]\tLoss: 0.098812\n",
      "Train Epoch: 2 [53760/60000 (90%)]\tLoss: 0.117837\n",
      "Train Epoch: 2 [54400/60000 (91%)]\tLoss: 0.086153\n",
      "Train Epoch: 2 [55040/60000 (92%)]\tLoss: 0.156648\n",
      "Train Epoch: 2 [55680/60000 (93%)]\tLoss: 0.069600\n",
      "Train Epoch: 2 [56320/60000 (94%)]\tLoss: 0.177082\n",
      "Train Epoch: 2 [56960/60000 (95%)]\tLoss: 0.114367\n",
      "Train Epoch: 2 [57600/60000 (96%)]\tLoss: 0.138267\n",
      "Train Epoch: 2 [58240/60000 (97%)]\tLoss: 0.140452\n",
      "Train Epoch: 2 [58880/60000 (98%)]\tLoss: 0.391077\n",
      "Train Epoch: 2 [59520/60000 (99%)]\tLoss: 0.175457\n",
      "\n",
      "Test set: Avg. loss: 0.0585, Accuracy: 9813/10000 (98%)\n",
      "\n",
      "Train Epoch: 3 [0/60000 (0%)]\tLoss: 0.148517\n",
      "Train Epoch: 3 [640/60000 (1%)]\tLoss: 0.135905\n",
      "Train Epoch: 3 [1280/60000 (2%)]\tLoss: 0.129031\n",
      "Train Epoch: 3 [1920/60000 (3%)]\tLoss: 0.241642\n",
      "Train Epoch: 3 [2560/60000 (4%)]\tLoss: 0.248399\n",
      "Train Epoch: 3 [3200/60000 (5%)]\tLoss: 0.134560\n",
      "Train Epoch: 3 [3840/60000 (6%)]\tLoss: 0.281921\n",
      "Train Epoch: 3 [4480/60000 (7%)]\tLoss: 0.186935\n",
      "Train Epoch: 3 [5120/60000 (9%)]\tLoss: 0.181334\n",
      "Train Epoch: 3 [5760/60000 (10%)]\tLoss: 0.125478\n",
      "Train Epoch: 3 [6400/60000 (11%)]\tLoss: 0.241045\n",
      "Train Epoch: 3 [7040/60000 (12%)]\tLoss: 0.150502\n",
      "Train Epoch: 3 [7680/60000 (13%)]\tLoss: 0.081461\n",
      "Train Epoch: 3 [8320/60000 (14%)]\tLoss: 0.101451\n",
      "Train Epoch: 3 [8960/60000 (15%)]\tLoss: 0.167020\n",
      "Train Epoch: 3 [9600/60000 (16%)]\tLoss: 0.133430\n",
      "Train Epoch: 3 [10240/60000 (17%)]\tLoss: 0.205116\n",
      "Train Epoch: 3 [10880/60000 (18%)]\tLoss: 0.214456\n",
      "Train Epoch: 3 [11520/60000 (19%)]\tLoss: 0.330208\n",
      "Train Epoch: 3 [12160/60000 (20%)]\tLoss: 0.189541\n",
      "Train Epoch: 3 [12800/60000 (21%)]\tLoss: 0.268993\n",
      "Train Epoch: 3 [13440/60000 (22%)]\tLoss: 0.127199\n",
      "Train Epoch: 3 [14080/60000 (23%)]\tLoss: 0.164685\n",
      "Train Epoch: 3 [14720/60000 (25%)]\tLoss: 0.157413\n",
      "Train Epoch: 3 [15360/60000 (26%)]\tLoss: 0.140554\n",
      "Train Epoch: 3 [16000/60000 (27%)]\tLoss: 0.233901\n",
      "Train Epoch: 3 [16640/60000 (28%)]\tLoss: 0.158494\n",
      "Train Epoch: 3 [17280/60000 (29%)]\tLoss: 0.294791\n",
      "Train Epoch: 3 [17920/60000 (30%)]\tLoss: 0.299973\n",
      "Train Epoch: 3 [18560/60000 (31%)]\tLoss: 0.253918\n",
      "Train Epoch: 3 [19200/60000 (32%)]\tLoss: 0.078059\n",
      "Train Epoch: 3 [19840/60000 (33%)]\tLoss: 0.194852\n",
      "Train Epoch: 3 [20480/60000 (34%)]\tLoss: 0.115108\n",
      "Train Epoch: 3 [21120/60000 (35%)]\tLoss: 0.138713\n",
      "Train Epoch: 3 [21760/60000 (36%)]\tLoss: 0.123227\n",
      "Train Epoch: 3 [22400/60000 (37%)]\tLoss: 0.283445\n",
      "Train Epoch: 3 [23040/60000 (38%)]\tLoss: 0.135683\n",
      "Train Epoch: 3 [23680/60000 (39%)]\tLoss: 0.082543\n",
      "Train Epoch: 3 [24320/60000 (41%)]\tLoss: 0.147909\n",
      "Train Epoch: 3 [24960/60000 (42%)]\tLoss: 0.034966\n",
      "Train Epoch: 3 [25600/60000 (43%)]\tLoss: 0.202523\n",
      "Train Epoch: 3 [26240/60000 (44%)]\tLoss: 0.208508\n",
      "Train Epoch: 3 [26880/60000 (45%)]\tLoss: 0.227813\n",
      "Train Epoch: 3 [27520/60000 (46%)]\tLoss: 0.346625\n",
      "Train Epoch: 3 [28160/60000 (47%)]\tLoss: 0.218902\n",
      "Train Epoch: 3 [28800/60000 (48%)]\tLoss: 0.196281\n",
      "Train Epoch: 3 [29440/60000 (49%)]\tLoss: 0.140015\n",
      "Train Epoch: 3 [30080/60000 (50%)]\tLoss: 0.141097\n",
      "Train Epoch: 3 [30720/60000 (51%)]\tLoss: 0.259496\n",
      "Train Epoch: 3 [31360/60000 (52%)]\tLoss: 0.173442\n",
      "Train Epoch: 3 [32000/60000 (53%)]\tLoss: 0.179857\n",
      "Train Epoch: 3 [32640/60000 (54%)]\tLoss: 0.181766\n",
      "Train Epoch: 3 [33280/60000 (55%)]\tLoss: 0.229430\n",
      "Train Epoch: 3 [33920/60000 (57%)]\tLoss: 0.161975\n",
      "Train Epoch: 3 [34560/60000 (58%)]\tLoss: 0.156371\n",
      "Train Epoch: 3 [35200/60000 (59%)]\tLoss: 0.124977\n",
      "Train Epoch: 3 [35840/60000 (60%)]\tLoss: 0.204644\n",
      "Train Epoch: 3 [36480/60000 (61%)]\tLoss: 0.152144\n",
      "Train Epoch: 3 [37120/60000 (62%)]\tLoss: 0.136254\n",
      "Train Epoch: 3 [37760/60000 (63%)]\tLoss: 0.299893\n",
      "Train Epoch: 3 [38400/60000 (64%)]\tLoss: 0.133571\n",
      "Train Epoch: 3 [39040/60000 (65%)]\tLoss: 0.087319\n",
      "Train Epoch: 3 [39680/60000 (66%)]\tLoss: 0.362282\n",
      "Train Epoch: 3 [40320/60000 (67%)]\tLoss: 0.317484\n",
      "Train Epoch: 3 [40960/60000 (68%)]\tLoss: 0.232341\n",
      "Train Epoch: 3 [41600/60000 (69%)]\tLoss: 0.154162\n",
      "Train Epoch: 3 [42240/60000 (70%)]\tLoss: 0.091453\n",
      "Train Epoch: 3 [42880/60000 (71%)]\tLoss: 0.043015\n",
      "Train Epoch: 3 [43520/60000 (72%)]\tLoss: 0.376069\n",
      "Train Epoch: 3 [44160/60000 (74%)]\tLoss: 0.030763\n",
      "Train Epoch: 3 [44800/60000 (75%)]\tLoss: 0.220694\n",
      "Train Epoch: 3 [45440/60000 (76%)]\tLoss: 0.056006\n",
      "Train Epoch: 3 [46080/60000 (77%)]\tLoss: 0.086181\n",
      "Train Epoch: 3 [46720/60000 (78%)]\tLoss: 0.263445\n",
      "Train Epoch: 3 [47360/60000 (79%)]\tLoss: 0.020390\n",
      "Train Epoch: 3 [48000/60000 (80%)]\tLoss: 0.217165\n",
      "Train Epoch: 3 [48640/60000 (81%)]\tLoss: 0.205987\n",
      "Train Epoch: 3 [49280/60000 (82%)]\tLoss: 0.164749\n",
      "Train Epoch: 3 [49920/60000 (83%)]\tLoss: 0.167603\n",
      "Train Epoch: 3 [50560/60000 (84%)]\tLoss: 0.211170\n",
      "Train Epoch: 3 [51200/60000 (85%)]\tLoss: 0.185713\n",
      "Train Epoch: 3 [51840/60000 (86%)]\tLoss: 0.269203\n",
      "Train Epoch: 3 [52480/60000 (87%)]\tLoss: 0.100673\n",
      "Train Epoch: 3 [53120/60000 (88%)]\tLoss: 0.105964\n",
      "Train Epoch: 3 [53760/60000 (90%)]\tLoss: 0.153342\n",
      "Train Epoch: 3 [54400/60000 (91%)]\tLoss: 0.093703\n",
      "Train Epoch: 3 [55040/60000 (92%)]\tLoss: 0.154086\n",
      "Train Epoch: 3 [55680/60000 (93%)]\tLoss: 0.259522\n",
      "Train Epoch: 3 [56320/60000 (94%)]\tLoss: 0.115634\n",
      "Train Epoch: 3 [56960/60000 (95%)]\tLoss: 0.260583\n",
      "Train Epoch: 3 [57600/60000 (96%)]\tLoss: 0.244979\n",
      "Train Epoch: 3 [58240/60000 (97%)]\tLoss: 0.152771\n",
      "Train Epoch: 3 [58880/60000 (98%)]\tLoss: 0.230319\n",
      "Train Epoch: 3 [59520/60000 (99%)]\tLoss: 0.093228\n",
      "\n",
      "Test set: Avg. loss: 0.0537, Accuracy: 9824/10000 (98%)\n",
      "\n"
     ]
    }
   ],
   "source": [
    "test()\n",
    "for epoch in range(1, n_epochs + 1):\n",
    "  train(epoch)\n",
    "  test()"
   ]
  },
  {
   "cell_type": "code",
   "execution_count": 41,
   "metadata": {},
   "outputs": [],
   "source": [
    "def test():\n",
    "  print(len(test_losses),len(test_counter))\n",
    "  network.eval()\n",
    "  test_loss = 0\n",
    "  correct = 0\n",
    "  with torch.no_grad():\n",
    "    for data, target in test_loader:\n",
    "      print(len(test_losses),len(test_counter))\n",
    "      output = network(data)\n",
    "      test_loss += F.nll_loss(output, target, size_average=False).item()\n",
    "      pred = output.data.max(1, keepdim=True)[1]\n",
    "      correct += pred.eq(target.data.view_as(pred)).sum()\n",
    "  test_loss /= len(test_loader.dataset)\n",
    "  test_losses.append(test_loss)\n",
    "  print('\\nTest set: Avg. loss: {:.4f}, Accuracy: {}/{} ({:.0f}%)\\n'.format(\n",
    "    test_loss, correct, len(test_loader.dataset),\n",
    "    100. * correct / len(test_loader.dataset)))"
   ]
  },
  {
   "cell_type": "code",
   "execution_count": 42,
   "metadata": {},
   "outputs": [
    {
     "name": "stdout",
     "output_type": "stream",
     "text": [
      "1\n"
     ]
    }
   ],
   "source": [
    "print(n_epochs)\n",
    "n_epochs=1"
   ]
  },
  {
   "cell_type": "code",
   "execution_count": 43,
   "metadata": {},
   "outputs": [
    {
     "name": "stdout",
     "output_type": "stream",
     "text": [
      "16 4\n",
      "16 4\n"
     ]
    },
    {
     "name": "stderr",
     "output_type": "stream",
     "text": [
      "C:\\Users\\MohamedEl-Khouly\\.conda\\envs\\Manning_Live_project_GPU\\lib\\site-packages\\ipykernel_launcher.py:17: UserWarning: Implicit dimension choice for log_softmax has been deprecated. Change the call to include dim=X as an argument.\n"
     ]
    },
    {
     "name": "stdout",
     "output_type": "stream",
     "text": [
      "16 4\n",
      "16 4\n",
      "16 4\n",
      "16 4\n",
      "16 4\n",
      "16 4\n",
      "16 4\n",
      "16 4\n",
      "16 4\n",
      "\n",
      "Test set: Avg. loss: 0.0492, Accuracy: 9844/10000 (98%)\n",
      "\n",
      "Train Epoch: 1 [0/60000 (0%)]\tLoss: 0.062024\n",
      "Train Epoch: 1 [640/60000 (1%)]\tLoss: 0.086095\n",
      "Train Epoch: 1 [1280/60000 (2%)]\tLoss: 0.167228\n",
      "Train Epoch: 1 [1920/60000 (3%)]\tLoss: 0.131903\n",
      "Train Epoch: 1 [2560/60000 (4%)]\tLoss: 0.075017\n",
      "Train Epoch: 1 [3200/60000 (5%)]\tLoss: 0.182982\n",
      "Train Epoch: 1 [3840/60000 (6%)]\tLoss: 0.087184\n",
      "Train Epoch: 1 [4480/60000 (7%)]\tLoss: 0.197239\n",
      "Train Epoch: 1 [5120/60000 (9%)]\tLoss: 0.221253\n",
      "Train Epoch: 1 [5760/60000 (10%)]\tLoss: 0.069743\n",
      "Train Epoch: 1 [6400/60000 (11%)]\tLoss: 0.068208\n",
      "Train Epoch: 1 [7040/60000 (12%)]\tLoss: 0.168542\n",
      "Train Epoch: 1 [7680/60000 (13%)]\tLoss: 0.051448\n",
      "Train Epoch: 1 [8320/60000 (14%)]\tLoss: 0.213671\n",
      "Train Epoch: 1 [8960/60000 (15%)]\tLoss: 0.204942\n",
      "Train Epoch: 1 [9600/60000 (16%)]\tLoss: 0.510879\n",
      "Train Epoch: 1 [10240/60000 (17%)]\tLoss: 0.112579\n",
      "Train Epoch: 1 [10880/60000 (18%)]\tLoss: 0.106696\n",
      "Train Epoch: 1 [11520/60000 (19%)]\tLoss: 0.109701\n",
      "Train Epoch: 1 [12160/60000 (20%)]\tLoss: 0.288351\n",
      "Train Epoch: 1 [12800/60000 (21%)]\tLoss: 0.210859\n",
      "Train Epoch: 1 [13440/60000 (22%)]\tLoss: 0.172693\n",
      "Train Epoch: 1 [14080/60000 (23%)]\tLoss: 0.179929\n",
      "Train Epoch: 1 [14720/60000 (25%)]\tLoss: 0.262052\n",
      "Train Epoch: 1 [15360/60000 (26%)]\tLoss: 0.265223\n",
      "Train Epoch: 1 [16000/60000 (27%)]\tLoss: 0.133483\n",
      "Train Epoch: 1 [16640/60000 (28%)]\tLoss: 0.131976\n",
      "Train Epoch: 1 [17280/60000 (29%)]\tLoss: 0.181352\n",
      "Train Epoch: 1 [17920/60000 (30%)]\tLoss: 0.140826\n",
      "Train Epoch: 1 [18560/60000 (31%)]\tLoss: 0.134911\n",
      "Train Epoch: 1 [19200/60000 (32%)]\tLoss: 0.146431\n",
      "Train Epoch: 1 [19840/60000 (33%)]\tLoss: 0.142698\n",
      "Train Epoch: 1 [20480/60000 (34%)]\tLoss: 0.134380\n",
      "Train Epoch: 1 [21120/60000 (35%)]\tLoss: 0.159217\n",
      "Train Epoch: 1 [21760/60000 (36%)]\tLoss: 0.119233\n",
      "Train Epoch: 1 [22400/60000 (37%)]\tLoss: 0.083308\n",
      "Train Epoch: 1 [23040/60000 (38%)]\tLoss: 0.094590\n",
      "Train Epoch: 1 [23680/60000 (39%)]\tLoss: 0.190796\n",
      "Train Epoch: 1 [24320/60000 (41%)]\tLoss: 0.126139\n",
      "Train Epoch: 1 [24960/60000 (42%)]\tLoss: 0.163745\n",
      "Train Epoch: 1 [25600/60000 (43%)]\tLoss: 0.057715\n",
      "Train Epoch: 1 [26240/60000 (44%)]\tLoss: 0.092560\n",
      "Train Epoch: 1 [26880/60000 (45%)]\tLoss: 0.164457\n",
      "Train Epoch: 1 [27520/60000 (46%)]\tLoss: 0.204998\n",
      "Train Epoch: 1 [28160/60000 (47%)]\tLoss: 0.157575\n",
      "Train Epoch: 1 [28800/60000 (48%)]\tLoss: 0.087055\n",
      "Train Epoch: 1 [29440/60000 (49%)]\tLoss: 0.281529\n",
      "Train Epoch: 1 [30080/60000 (50%)]\tLoss: 0.128243\n",
      "Train Epoch: 1 [30720/60000 (51%)]\tLoss: 0.103885\n",
      "Train Epoch: 1 [31360/60000 (52%)]\tLoss: 0.086300\n",
      "Train Epoch: 1 [32000/60000 (53%)]\tLoss: 0.058287\n",
      "Train Epoch: 1 [32640/60000 (54%)]\tLoss: 0.216744\n",
      "Train Epoch: 1 [33280/60000 (55%)]\tLoss: 0.120748\n",
      "Train Epoch: 1 [33920/60000 (57%)]\tLoss: 0.461491\n",
      "Train Epoch: 1 [34560/60000 (58%)]\tLoss: 0.486566\n",
      "Train Epoch: 1 [35200/60000 (59%)]\tLoss: 0.194666\n",
      "Train Epoch: 1 [35840/60000 (60%)]\tLoss: 0.278919\n",
      "Train Epoch: 1 [36480/60000 (61%)]\tLoss: 0.149181\n",
      "Train Epoch: 1 [37120/60000 (62%)]\tLoss: 0.093919\n",
      "Train Epoch: 1 [37760/60000 (63%)]\tLoss: 0.127637\n",
      "Train Epoch: 1 [38400/60000 (64%)]\tLoss: 0.077702\n",
      "Train Epoch: 1 [39040/60000 (65%)]\tLoss: 0.359718\n",
      "Train Epoch: 1 [39680/60000 (66%)]\tLoss: 0.065570\n",
      "Train Epoch: 1 [40320/60000 (67%)]\tLoss: 0.072923\n",
      "Train Epoch: 1 [40960/60000 (68%)]\tLoss: 0.176841\n",
      "Train Epoch: 1 [41600/60000 (69%)]\tLoss: 0.039153\n",
      "Train Epoch: 1 [42240/60000 (70%)]\tLoss: 0.117472\n",
      "Train Epoch: 1 [42880/60000 (71%)]\tLoss: 0.101953\n",
      "Train Epoch: 1 [43520/60000 (72%)]\tLoss: 0.213929\n",
      "Train Epoch: 1 [44160/60000 (74%)]\tLoss: 0.107965\n",
      "Train Epoch: 1 [44800/60000 (75%)]\tLoss: 0.211385\n",
      "Train Epoch: 1 [45440/60000 (76%)]\tLoss: 0.240841\n",
      "Train Epoch: 1 [46080/60000 (77%)]\tLoss: 0.169978\n",
      "Train Epoch: 1 [46720/60000 (78%)]\tLoss: 0.265391\n",
      "Train Epoch: 1 [47360/60000 (79%)]\tLoss: 0.151610\n",
      "Train Epoch: 1 [48000/60000 (80%)]\tLoss: 0.328375\n",
      "Train Epoch: 1 [48640/60000 (81%)]\tLoss: 0.052280\n",
      "Train Epoch: 1 [49280/60000 (82%)]\tLoss: 0.379841\n",
      "Train Epoch: 1 [49920/60000 (83%)]\tLoss: 0.168394\n",
      "Train Epoch: 1 [50560/60000 (84%)]\tLoss: 0.037742\n",
      "Train Epoch: 1 [51200/60000 (85%)]\tLoss: 0.163466\n",
      "Train Epoch: 1 [51840/60000 (86%)]\tLoss: 0.082561\n",
      "Train Epoch: 1 [52480/60000 (87%)]\tLoss: 0.192090\n",
      "Train Epoch: 1 [53120/60000 (88%)]\tLoss: 0.093781\n",
      "Train Epoch: 1 [53760/60000 (90%)]\tLoss: 0.253910\n",
      "Train Epoch: 1 [54400/60000 (91%)]\tLoss: 0.232574\n",
      "Train Epoch: 1 [55040/60000 (92%)]\tLoss: 0.149584\n",
      "Train Epoch: 1 [55680/60000 (93%)]\tLoss: 0.108796\n",
      "Train Epoch: 1 [56320/60000 (94%)]\tLoss: 0.160155\n",
      "Train Epoch: 1 [56960/60000 (95%)]\tLoss: 0.063501\n",
      "Train Epoch: 1 [57600/60000 (96%)]\tLoss: 0.274966\n",
      "Train Epoch: 1 [58240/60000 (97%)]\tLoss: 0.486363\n",
      "Train Epoch: 1 [58880/60000 (98%)]\tLoss: 0.224937\n",
      "Train Epoch: 1 [59520/60000 (99%)]\tLoss: 0.070430\n",
      "17 4\n",
      "17 4\n",
      "17 4\n",
      "17 4\n",
      "17 4\n",
      "17 4\n",
      "17 4\n",
      "17 4\n",
      "17 4\n",
      "17 4\n",
      "17 4\n",
      "\n",
      "Test set: Avg. loss: 0.0473, Accuracy: 9845/10000 (98%)\n",
      "\n"
     ]
    }
   ],
   "source": [
    "test()\n",
    "for epoch in range(1, n_epochs + 1):\n",
    "  train(epoch)\n",
    "  test()"
   ]
  },
  {
   "cell_type": "code",
   "execution_count": 44,
   "metadata": {},
   "outputs": [
    {
     "name": "stdout",
     "output_type": "stream",
     "text": [
      "1128\n",
      "1128\n",
      "4\n",
      "18\n",
      "[0, 640, 1280, 1920, 2560, 3200, 3840, 4480, 5120, 5760, 6400, 7040, 7680, 8320, 8960, 9600, 10240, 10880, 11520, 12160, 12800, 13440, 14080, 14720, 15360, 16000, 16640, 17280, 17920, 18560, 19200, 19840, 20480, 21120, 21760, 22400, 23040, 23680, 24320, 24960, 25600, 26240, 26880, 27520, 28160, 28800, 29440, 30080, 30720, 31360, 32000, 32640, 33280, 33920, 34560, 35200, 35840, 36480, 37120, 37760, 38400, 39040, 39680, 40320, 40960, 41600, 42240, 42880, 43520, 44160, 44800, 45440, 46080, 46720, 47360, 48000, 48640, 49280, 49920, 50560, 51200, 51840, 52480, 53120, 53760, 54400, 55040, 55680, 56320, 56960, 57600, 58240, 58880, 59520, 60000, 60640, 61280, 61920, 62560, 63200, 63840, 64480, 65120, 65760, 66400, 67040, 67680, 68320, 68960, 69600, 70240, 70880, 71520, 72160, 72800, 73440, 74080, 74720, 75360, 76000, 76640, 77280, 77920, 78560, 79200, 79840, 80480, 81120, 81760, 82400, 83040, 83680, 84320, 84960, 85600, 86240, 86880, 87520, 88160, 88800, 89440, 90080, 90720, 91360, 92000, 92640, 93280, 93920, 94560, 95200, 95840, 96480, 97120, 97760, 98400, 99040, 99680, 100320, 100960, 101600, 102240, 102880, 103520, 104160, 104800, 105440, 106080, 106720, 107360, 108000, 108640, 109280, 109920, 110560, 111200, 111840, 112480, 113120, 113760, 114400, 115040, 115680, 116320, 116960, 117600, 118240, 118880, 119520, 120000, 120640, 121280, 121920, 122560, 123200, 123840, 124480, 125120, 125760, 126400, 127040, 127680, 128320, 128960, 129600, 130240, 130880, 131520, 132160, 132800, 133440, 134080, 134720, 135360, 136000, 136640, 137280, 137920, 138560, 139200, 139840, 140480, 141120, 141760, 142400, 143040, 143680, 144320, 144960, 145600, 146240, 146880, 147520, 148160, 148800, 149440, 150080, 150720, 151360, 152000, 152640, 153280, 153920, 154560, 155200, 155840, 156480, 157120, 157760, 158400, 159040, 159680, 160320, 160960, 161600, 162240, 162880, 163520, 164160, 164800, 165440, 166080, 166720, 167360, 168000, 168640, 169280, 169920, 170560, 171200, 171840, 172480, 173120, 173760, 174400, 175040, 175680, 176320, 176960, 177600, 178240, 178880, 179520, 0, 640, 1280, 1920, 2560, 3200, 3840, 4480, 5120, 5760, 6400, 7040, 7680, 8320, 8960, 9600, 10240, 10880, 11520, 12160, 12800, 13440, 14080, 14720, 15360, 16000, 16640, 17280, 17920, 18560, 19200, 19840, 20480, 21120, 21760, 22400, 23040, 23680, 24320, 24960, 25600, 26240, 26880, 27520, 28160, 28800, 29440, 30080, 30720, 31360, 32000, 32640, 33280, 33920, 34560, 35200, 35840, 36480, 37120, 37760, 38400, 39040, 39680, 40320, 40960, 41600, 42240, 42880, 43520, 44160, 44800, 45440, 46080, 46720, 47360, 48000, 48640, 49280, 49920, 50560, 51200, 51840, 52480, 53120, 53760, 54400, 55040, 55680, 56320, 56960, 57600, 58240, 58880, 59520, 60000, 60640, 61280, 61920, 62560, 63200, 63840, 64480, 65120, 65760, 66400, 67040, 67680, 68320, 68960, 69600, 70240, 70880, 71520, 72160, 72800, 73440, 74080, 74720, 75360, 76000, 76640, 77280, 77920, 78560, 79200, 79840, 80480, 81120, 81760, 82400, 83040, 83680, 84320, 84960, 85600, 86240, 86880, 87520, 88160, 88800, 89440, 90080, 90720, 91360, 92000, 92640, 93280, 93920, 94560, 95200, 95840, 96480, 97120, 97760, 98400, 99040, 99680, 100320, 100960, 101600, 102240, 102880, 103520, 104160, 104800, 105440, 106080, 106720, 107360, 108000, 108640, 109280, 109920, 110560, 111200, 111840, 112480, 113120, 113760, 114400, 115040, 115680, 116320, 116960, 117600, 118240, 118880, 119520, 120000, 120640, 121280, 121920, 122560, 123200, 123840, 124480, 125120, 125760, 126400, 127040, 127680, 128320, 128960, 129600, 130240, 130880, 131520, 132160, 132800, 133440, 134080, 134720, 135360, 136000, 136640, 137280, 137920, 138560, 139200, 139840, 140480, 141120, 141760, 142400, 143040, 143680, 144320, 144960, 145600, 146240, 146880, 147520, 148160, 148800, 149440, 150080, 150720, 151360, 152000, 152640, 153280, 153920, 154560, 155200, 155840, 156480, 157120, 157760, 158400, 159040, 159680, 160320, 160960, 161600, 162240, 162880, 163520, 164160, 164800, 165440, 166080, 166720, 167360, 168000, 168640, 169280, 169920, 170560, 171200, 171840, 172480, 173120, 173760, 174400, 175040, 175680, 176320, 176960, 177600, 178240, 178880, 179520, 0, 640, 1280, 1920, 2560, 3200, 3840, 4480, 5120, 5760, 6400, 7040, 7680, 8320, 8960, 9600, 10240, 10880, 11520, 12160, 12800, 13440, 14080, 14720, 15360, 16000, 16640, 17280, 17920, 18560, 19200, 19840, 20480, 21120, 21760, 22400, 23040, 23680, 24320, 24960, 25600, 26240, 26880, 27520, 28160, 28800, 29440, 30080, 30720, 31360, 32000, 32640, 33280, 33920, 34560, 35200, 35840, 36480, 37120, 37760, 38400, 39040, 39680, 40320, 40960, 41600, 42240, 42880, 43520, 44160, 44800, 45440, 46080, 46720, 47360, 48000, 48640, 49280, 49920, 50560, 51200, 51840, 52480, 53120, 53760, 54400, 55040, 55680, 56320, 56960, 57600, 58240, 58880, 59520, 60000, 60640, 61280, 61920, 62560, 63200, 63840, 64480, 65120, 65760, 66400, 67040, 67680, 68320, 68960, 69600, 70240, 70880, 71520, 72160, 72800, 73440, 74080, 74720, 75360, 76000, 76640, 77280, 77920, 78560, 79200, 79840, 80480, 81120, 81760, 82400, 83040, 83680, 84320, 84960, 85600, 86240, 86880, 87520, 88160, 88800, 89440, 90080, 90720, 91360, 92000, 92640, 93280, 93920, 94560, 95200, 95840, 96480, 97120, 97760, 98400, 99040, 99680, 100320, 100960, 101600, 102240, 102880, 103520, 104160, 104800, 105440, 106080, 106720, 107360, 108000, 108640, 109280, 109920, 110560, 111200, 111840, 112480, 113120, 113760, 114400, 115040, 115680, 116320, 116960, 117600, 118240, 118880, 119520, 120000, 120640, 121280, 121920, 122560, 123200, 123840, 124480, 125120, 125760, 126400, 127040, 127680, 128320, 128960, 129600, 130240, 130880, 131520, 132160, 132800, 133440, 134080, 134720, 135360, 136000, 136640, 137280, 137920, 138560, 139200, 139840, 140480, 141120, 141760, 142400, 143040, 143680, 144320, 144960, 145600, 146240, 146880, 147520, 148160, 148800, 149440, 150080, 150720, 151360, 152000, 152640, 153280, 153920, 154560, 155200, 155840, 156480, 157120, 157760, 158400, 159040, 159680, 160320, 160960, 161600, 162240, 162880, 163520, 164160, 164800, 165440, 166080, 166720, 167360, 168000, 168640, 169280, 169920, 170560, 171200, 171840, 172480, 173120, 173760, 174400, 175040, 175680, 176320, 176960, 177600, 178240, 178880, 179520, 0, 640, 1280, 1920, 2560, 3200, 3840, 4480, 5120, 5760, 6400, 7040, 7680, 8320, 8960, 9600, 10240, 10880, 11520, 12160, 12800, 13440, 14080, 14720, 15360, 16000, 16640, 17280, 17920, 18560, 19200, 19840, 20480, 21120, 21760, 22400, 23040, 23680, 24320, 24960, 25600, 26240, 26880, 27520, 28160, 28800, 29440, 30080, 30720, 31360, 32000, 32640, 33280, 33920, 34560, 35200, 35840, 36480, 37120, 37760, 38400, 39040, 39680, 40320, 40960, 41600, 42240, 42880, 43520, 44160, 44800, 45440, 46080, 46720, 47360, 48000, 48640, 49280, 49920, 50560, 51200, 51840, 52480, 53120, 53760, 54400, 55040, 55680, 56320, 56960, 57600, 58240, 58880, 59520, 0, 640, 1280, 1920, 2560, 3200, 3840, 4480, 5120, 5760, 6400, 7040, 7680, 8320, 8960, 9600, 10240, 10880, 11520, 12160, 12800, 13440, 14080, 14720, 15360, 16000, 16640, 17280, 17920, 18560, 19200, 19840, 20480, 21120, 21760, 22400, 23040, 23680, 24320, 24960, 25600, 26240, 26880, 27520, 28160, 28800, 29440, 30080, 30720, 31360, 32000, 32640, 33280, 33920, 34560, 35200, 35840, 36480, 37120, 37760, 38400, 39040, 39680, 40320, 40960, 41600, 42240, 42880, 43520, 44160, 44800, 45440, 46080, 46720, 47360, 48000, 48640, 49280, 49920, 50560, 51200, 51840, 52480, 53120, 53760, 54400, 55040, 55680, 56320, 56960, 57600, 58240, 58880, 59520, 0, 640, 1280, 1920, 2560, 3200, 3840, 4480, 5120, 5760, 6400, 7040, 7680, 8320, 8960, 9600, 10240, 10880, 11520, 12160, 12800, 13440, 14080, 14720, 15360, 16000, 16640, 17280, 17920, 18560, 19200, 19840, 20480, 21120, 21760, 22400, 23040, 23680, 24320, 24960, 25600, 26240, 26880, 27520, 28160, 28800, 29440, 30080, 30720, 31360, 32000, 32640, 33280, 33920, 34560, 35200, 35840, 36480, 37120, 37760, 38400, 39040, 39680, 40320, 40960, 41600, 42240, 42880, 43520, 44160, 44800, 45440, 46080, 46720, 47360, 48000, 48640, 49280, 49920, 50560, 51200, 51840, 52480, 53120, 53760, 54400, 55040, 55680, 56320, 56960, 57600, 58240, 58880, 59520]\n",
      "[2.2684576511383057, 2.2683370113372803, 2.2740001678466797, 2.251669406890869, 2.2368264198303223, 2.2235782146453857, 2.153439998626709, 2.0963709354400635, 1.9741121530532837, 1.9443482160568237, 1.8396040201187134, 1.7659013271331787, 1.699959635734558, 1.6911499500274658, 1.509483814239502, 1.3959230184555054, 1.2862104177474976, 1.3213326930999756, 1.273633360862732, 1.2344850301742554, 0.9271377325057983, 1.396968960762024, 0.9624199867248535, 1.1005840301513672, 0.9504738450050354, 1.0516808032989502, 0.9326929450035095, 0.8410841226577759, 1.1271135807037354, 0.6476728320121765, 0.9322696328163147, 0.7856717109680176, 0.7968078255653381, 0.7545754313468933, 0.9307143092155457, 0.6106337308883667, 0.8592935800552368, 0.6423035264015198, 0.8046469688415527, 0.8401176333427429, 0.7737841606140137, 0.7196756601333618, 0.7622600197792053, 0.7360427975654602, 0.7869856357574463, 0.7025573253631592, 0.6439855098724365, 1.0302250385284424, 0.6693833470344543, 0.9028874635696411, 0.7090355157852173, 0.701741099357605, 0.5729060173034668, 0.46020495891571045, 0.774250328540802, 0.47544974088668823, 0.7384454011917114, 0.3330894112586975, 0.39347660541534424, 0.5768598914146423, 0.7217215299606323, 0.443472295999527, 0.4745798408985138, 0.5969812273979187, 0.45850497484207153, 0.41958850622177124, 0.5961217880249023, 0.6269096732139587, 0.5699070692062378, 0.4807271361351013, 0.5916707515716553, 0.6957492232322693, 0.5561331510543823, 0.8851587176322937, 0.38751232624053955, 0.46872881054878235, 0.3502398133277893, 0.5775793194770813, 0.37879377603530884, 0.3900126516819, 0.7840656042098999, 0.4571581780910492, 0.6539087891578674, 0.755926787853241, 0.5458641052246094, 0.4468255639076233, 0.6774129867553711, 0.46034345030784607, 0.5327330231666565, 0.5645619630813599, 0.34529146552085876, 0.4787250757217407, 0.3354765772819519, 0.4889998137950897, 0.5391226410865784, 0.2976478934288025, 0.3705238103866577, 0.28675222396850586, 0.4741058349609375, 0.6811215281486511, 0.5424935817718506, 0.4580208659172058, 0.3908158540725708, 0.47979921102523804, 0.5203912258148193, 0.4106760025024414, 0.30304089188575745, 0.3516472280025482, 0.39400675892829895, 0.38793352246284485, 0.39125171303749084, 0.5831453800201416, 0.5578320622444153, 0.5014791488647461, 0.4024851322174072, 0.48593178391456604, 0.38647496700286865, 0.3305622339248657, 0.5725414156913757, 0.3794569969177246, 0.5156134366989136, 0.39280208945274353, 0.34191378951072693, 0.3765885531902313, 0.4642626643180847, 0.3520069122314453, 0.3982767164707184, 0.6798233389854431, 0.42371001839637756, 0.406486451625824, 0.47039756178855896, 0.43163254857063293, 0.34310612082481384, 0.3438541293144226, 0.4630054235458374, 0.33933836221694946, 0.43300727009773254, 0.37274670600891113, 0.29898351430892944, 0.45570695400238037, 0.43650469183921814, 0.6407000422477722, 0.342111200094223, 0.41073063015937805, 0.44943878054618835, 0.3185109496116638, 0.2709237039089203, 0.37535524368286133, 0.4298989772796631, 0.6319558024406433, 0.2485070377588272, 0.5017085075378418, 0.3944915533065796, 0.3459702730178833, 0.22216400504112244, 0.31494060158729553, 0.38201314210891724, 0.37439852952957153, 0.3409779667854309, 0.32590022683143616, 0.16751939058303833, 0.2179378718137741, 0.3804999887943268, 0.3768015503883362, 0.47589078545570374, 0.4489641487598419, 0.42385393381118774, 0.245870441198349, 0.2821660041809082, 0.5159411430358887, 0.350320428609848, 0.37835806608200073, 0.3140065371990204, 0.2913370132446289, 0.4617369472980499, 0.17965690791606903, 0.3933955430984497, 0.4038950502872467, 0.2900359630584717, 0.32848238945007324, 0.3816421926021576, 0.664401650428772, 0.32993048429489136, 0.5924851894378662, 0.37281662225723267, 0.2667107880115509, 0.21356841921806335, 0.3352617621421814, 0.26956671476364136, 0.30051007866859436, 0.3770298957824707, 0.23495522141456604, 0.3827202320098877, 0.4562731981277466, 0.4008246064186096, 0.1522017866373062, 0.25445646047592163, 0.4314687252044678, 0.3572440445423126, 0.2732534110546112, 0.3820396661758423, 0.23459041118621826, 0.4265783429145813, 0.3638667166233063, 0.44345393776893616, 0.32785266637802124, 0.24697154760360718, 0.4373209476470947, 0.29367026686668396, 0.2196492701768875, 0.21054771542549133, 0.2835523784160614, 0.1953820139169693, 0.4190027713775635, 0.28575271368026733, 0.4476878345012665, 0.25193890929222107, 0.15549539029598236, 0.5988339185714722, 0.21869425475597382, 0.37182486057281494, 0.33488547801971436, 0.27309733629226685, 0.31572458148002625, 0.4192809760570526, 0.31267455220222473, 0.30852025747299194, 0.14456386864185333, 0.2871423363685608, 0.43346336483955383, 0.2491208016872406, 0.35763460397720337, 0.24878989160060883, 0.13875621557235718, 0.1995229572057724, 0.2207537144422531, 0.3127882480621338, 0.33122292160987854, 0.32263368368148804, 0.3668104112148285, 0.350025475025177, 0.17481642961502075, 0.28744250535964966, 0.17181654274463654, 0.3276880383491516, 0.18302826583385468, 0.42329180240631104, 0.29058343172073364, 0.19236347079277039, 0.35736605525016785, 0.13293364644050598, 0.277887761592865, 0.3157234191894531, 0.16116097569465637, 0.19085091352462769, 0.21827811002731323, 0.26673492789268494, 0.30806276202201843, 0.25878584384918213, 0.25619155168533325, 0.27305567264556885, 0.47928962111473083, 0.3409821391105652, 0.40611404180526733, 0.2053864449262619, 0.1636747568845749, 0.48987478017807007, 0.289483904838562, 0.26678597927093506, 0.2247469276189804, 0.21533338725566864, 0.22437094151973724, 0.4097099304199219, 0.4367888569831848, 0.29639631509780884, 0.26730895042419434, 0.31580039858818054, 0.3195078372955322, 0.17206431925296783, 0.10006137937307358, 0.1922215223312378, 0.3189595341682434, 0.31892433762550354, 0.21886050701141357, 0.20220421254634857, 0.24805785715579987, 0.3059433698654175, 0.1990634948015213, 0.20658257603645325, 0.3005683720111847, 0.2889293432235718, 0.32947003841400146, 0.5420824885368347, 0.3028779923915863, 0.24254317581653595, 0.26206275820732117, 0.20316696166992188, 0.2821926772594452, 0.4754040837287903, 0.393180787563324, 0.3638244569301605, 0.24845485389232635, 0.2762848436832428, 0.24441342055797577, 0.3066554367542267, 0.3335157036781311, 0.621156632900238, 0.21161162853240967, 0.37537044286727905, 0.15410678088665009, 0.4273255467414856, 0.1496327966451645, 0.3355265259742737, 0.16823643445968628, 0.10057317465543747, 0.287969172000885, 0.18892571330070496, 0.4855620861053467, 0.12293712794780731, 0.24273715913295746, 0.174396812915802, 0.5686224699020386, 0.20904742181301117, 0.2704005241394043, 0.15675564110279083, 0.05157722532749176, 0.2050057053565979, 0.334800124168396, 0.17578411102294922, 0.20281636714935303, 0.3530605435371399, 0.37687093019485474, 0.28344881534576416, 0.3109911382198334, 0.3734997510910034, 0.23960797488689423, 0.22457833588123322, 0.5599117279052734, 0.4506848454475403, 0.31502780318260193, 0.2925572693347931, 0.29740282893180847, 0.30582770705223083, 0.12766607105731964, 0.2662908136844635, 0.25124627351760864, 0.3029818534851074, 0.2758953869342804, 0.562701940536499, 0.16142889857292175, 0.3980172574520111, 0.2879083454608917, 0.39012232422828674, 0.2988507151603699, 0.32489556074142456, 0.16700613498687744, 0.16168230772018433, 0.24290043115615845, 0.2875787615776062, 0.20566362142562866, 0.2942657470703125, 0.20074503123760223, 0.28736284375190735, 0.26929619908332825, 0.218594491481781, 0.2265256941318512, 0.3312980532646179, 0.2096598744392395, 0.16840192675590515, 0.18612782657146454, 0.13625138998031616, 0.20409296452999115, 0.22372344136238098, 0.30889570713043213, 0.20599499344825745, 0.19219575822353363, 0.20357775688171387, 0.31105220317840576, 0.32324981689453125, 0.17522089183330536, 0.19178926944732666, 0.22781214118003845, 0.25328725576400757, 0.26839596033096313, 0.28362947702407837, 0.121464803814888, 0.3482799232006073, 0.2147447168827057, 0.35302406549453735, 0.38178279995918274, 0.22751906514167786, 0.19301800429821014, 0.30025574564933777, 0.16889449954032898, 0.12839433550834656, 0.24155424535274506, 0.24917638301849365, 0.16929440200328827, 0.23288023471832275, 0.24457679688930511, 0.1750188171863556, 0.1581471562385559, 0.5584366321563721, 0.31140461564064026, 0.17982789874076843, 0.20032453536987305, 0.2857542634010315, 0.23249101638793945, 0.24211223423480988, 0.40095052123069763, 0.32008132338523865, 0.325238436460495, 0.30997234582901, 0.4799799621105194, 0.3270823359489441, 0.29089251160621643, 0.37500691413879395, 0.2196221649646759, 0.325186550617218, 0.5084665417671204, 0.1936863213777542, 0.2604987621307373, 0.25900474190711975, 0.17382600903511047, 0.13077451288700104, 0.33759835362434387, 0.16253715753555298, 0.36501049995422363, 0.20582573115825653, 0.22486042976379395, 0.2764686644077301, 0.16185402870178223, 0.5483108162879944, 0.31758198142051697, 0.3146500885486603, 0.2737775146961212, 0.2929838299751282, 0.21214739978313446, 0.32113879919052124, 0.11649343371391296, 0.14218176901340485, 0.34979361295700073, 0.2870643734931946, 0.502413272857666, 0.19298674166202545, 0.2395883947610855, 0.35013601183891296, 0.18974000215530396, 0.3053329885005951, 0.17222227156162262, 0.23552697896957397, 0.16746631264686584, 0.22945038974285126, 0.12422972917556763, 0.21488812565803528, 0.20575158298015594, 0.1993320733308792, 0.29381826519966125, 0.18991129100322723, 0.2795238494873047, 0.13092294335365295, 0.1766654998064041, 0.3036845624446869, 0.2200041264295578, 0.08786220848560333, 0.20712371170520782, 0.17279697954654694, 0.1444561630487442, 0.08345767110586166, 0.387001097202301, 0.22870860993862152, 0.15753084421157837, 0.19212843477725983, 0.24849861860275269, 0.4162582457065582, 0.1766749918460846, 0.16017840802669525, 0.1561499685049057, 0.34520912170410156, 0.21280890703201294, 0.20330817997455597, 0.25174587965011597, 0.1271429806947708, 0.15450812876224518, 0.28056997060775757, 0.09189341217279434, 0.1870599240064621, 0.0934656411409378, 0.10670492053031921, 0.18725965917110443, 0.1524573415517807, 0.17613042891025543, 0.11329679936170578, 0.17149396240711212, 0.1409372091293335, 0.1603614240884781, 0.23527397215366364, 0.13679750263690948, 0.26574358344078064, 0.2997775673866272, 0.2898930609226227, 0.1371251940727234, 0.0618012361228466, 0.17861811816692352, 0.06035644933581352, 0.272906094789505, 0.15902093052864075, 0.2601885497570038, 0.12666501104831696, 0.18776169419288635, 0.2878190577030182, 0.18337823450565338, 0.10316760838031769, 0.20547643303871155, 0.2629447281360626, 0.22475747764110565, 0.0895778015255928, 0.24901843070983887, 0.15227648615837097, 0.16574588418006897, 0.10496806353330612, 0.19124360382556915, 0.20507964491844177, 0.2325238734483719, 0.14848068356513977, 0.2738584280014038, 0.11511985212564468, 0.3525083065032959, 0.15269358456134796, 0.23555757105350494, 0.25945937633514404, 0.2905479669570923, 0.03823993727564812, 0.20252873003482819, 0.19166213274002075, 0.11826962232589722, 0.15158089995384216, 0.11953388899564743, 0.4624228775501251, 0.17332258820533752, 0.22315780818462372, 0.22063621878623962, 0.22002260386943817, 0.13137288391590118, 0.4919138550758362, 0.2884446084499359, 0.32854461669921875, 0.1273343414068222, 0.12191174179315567, 0.1772138923406601, 0.3306344449520111, 0.261787086725235, 0.18858714401721954, 0.46669888496398926, 0.09530145674943924, 0.19026166200637817, 0.22245383262634277, 0.12023098766803741, 0.19961591064929962, 0.1765514314174652, 0.35574623942375183, 0.18112461268901825, 0.3461177349090576, 0.3116149604320526, 0.27333304286003113, 0.15768301486968994, 0.208512082695961, 0.2140108197927475, 0.21345074474811554, 0.1244063451886177, 0.22936563193798065, 0.16033843159675598, 0.3379734456539154, 0.19117332994937897, 0.10926855355501175, 0.3719217777252197, 0.18310949206352234, 0.23452773690223694, 0.19933120906352997, 0.1549765169620514, 0.2719821333885193, 0.25803011655807495, 0.17264343798160553, 0.13830968737602234, 0.47975167632102966, 0.1498274803161621, 0.2529336214065552, 0.3808855414390564, 0.11364836990833282, 0.29679521918296814, 0.11687243729829788, 0.3955513536930084, 0.32886314392089844, 0.2229139506816864, 0.25554925203323364, 0.2292681634426117, 0.1622234582901001, 0.26877209544181824, 0.1396700143814087, 0.2548598349094391, 0.09115684032440186, 0.47344377636909485, 0.14874176681041718, 0.058077726513147354, 0.08267100155353546, 0.12328395992517471, 0.12334152311086655, 0.2495153844356537, 0.14158764481544495, 0.13399231433868408, 0.14334967732429504, 0.21632377803325653, 0.1644349843263626, 0.19932104647159576, 0.13787318766117096, 0.16562499105930328, 0.18070636689662933, 0.21245132386684418, 0.28130051493644714, 0.48257699608802795, 0.4637194275856018, 0.17914019525051117, 0.2274293601512909, 0.21030347049236298, 0.4604523181915283, 0.3488245904445648, 0.08756685256958008, 0.07500967383384705, 0.16933655738830566, 0.15186789631843567, 0.0707274004817009, 0.19160835444927216, 0.05428643152117729, 0.13497892022132874, 0.1415637731552124, 0.15073536336421967, 0.12262965738773346, 0.12521229684352875, 0.26872000098228455, 0.2994183897972107, 0.11871873587369919, 0.159412682056427, 0.13616405427455902, 0.2684556245803833, 0.10817445814609528, 0.30437299609184265, 0.19355365633964539, 0.1376415342092514, 0.13088415563106537, 0.11582611501216888, 0.07821200788021088, 0.11061562597751617, 0.12298209965229034, 0.10819730907678604, 0.2177572101354599, 0.13910003006458282, 0.16795694828033447, 0.21204569935798645, 0.21084874868392944, 0.14642523229122162, 0.05055782198905945, 0.4006366431713104, 0.12952791154384613, 0.24710078537464142, 0.19616913795471191, 0.14464415609836578, 0.23991064727306366, 0.26643604040145874, 0.15204495191574097, 0.22275026142597198, 0.3953772783279419, 0.11753980070352554, 0.22172240912914276, 0.10403430461883545, 0.13767558336257935, 0.1288638859987259, 0.23216092586517334, 0.23747669160366058, 0.14170069992542267, 0.08247687667608261, 0.14959567785263062, 0.14647328853607178, 0.16644442081451416, 0.36039966344833374, 0.4479961693286896, 0.1977141797542572, 0.07779920101165771, 0.21694999933242798, 0.05770304426550865, 0.35152408480644226, 0.34797459840774536, 0.4113970100879669, 0.1558256894350052, 0.13316653668880463, 0.1493210345506668, 0.17845484614372253, 0.3550558090209961, 0.19171318411827087, 0.11392085999250412, 0.1633991301059723, 0.23866014182567596, 0.1969892382621765, 0.19860176742076874, 0.26469355821609497, 0.2161620557308197, 0.23346492648124695, 0.10047554224729538, 0.3666103780269623, 0.32503190636634827, 0.25496357679367065, 0.11907487362623215, 0.2539736330509186, 0.13398633897304535, 0.2852983772754669, 0.26772552728652954, 0.382380872964859, 0.24170878529548645, 0.20337620377540588, 0.11725550144910812, 0.30831655859947205, 0.11381538957357407, 0.2202942669391632, 0.11251125484704971, 0.09234829246997833, 0.1522674858570099, 0.12318313866853714, 0.19894686341285706, 0.30857276916503906, 0.1850004643201828, 0.09420626610517502, 0.2530881464481354, 0.18389329314231873, 0.11559978127479553, 0.11701703071594238, 0.193889319896698, 0.19737407565116882, 0.14193546772003174, 0.3042452931404114, 0.27741843461990356, 0.2527028024196625, 0.1770392209291458, 0.0988122969865799, 0.11783689260482788, 0.08615319430828094, 0.1566477119922638, 0.06960003077983856, 0.17708159983158112, 0.1143670529127121, 0.13826680183410645, 0.14045247435569763, 0.39107662439346313, 0.1754569262266159, 0.1485174149274826, 0.13590523600578308, 0.12903110682964325, 0.24164174497127533, 0.2483985722064972, 0.1345597803592682, 0.2819206714630127, 0.18693473935127258, 0.1813337802886963, 0.1254781186580658, 0.24104498326778412, 0.1505020409822464, 0.08146058768033981, 0.10145050287246704, 0.16702017188072205, 0.13342978060245514, 0.20511633157730103, 0.2144562304019928, 0.3302079141139984, 0.18954069912433624, 0.26899266242980957, 0.12719888985157013, 0.16468533873558044, 0.15741296112537384, 0.14055433869361877, 0.23390106856822968, 0.15849360823631287, 0.29479068517684937, 0.29997316002845764, 0.2539180517196655, 0.0780588835477829, 0.19485169649124146, 0.1151077151298523, 0.1387125700712204, 0.1232270747423172, 0.28344494104385376, 0.13568320870399475, 0.08254310488700867, 0.14790897071361542, 0.03496629744768143, 0.2025233805179596, 0.20850789546966553, 0.22781305015087128, 0.34662532806396484, 0.21890190243721008, 0.196280837059021, 0.14001473784446716, 0.14109744131565094, 0.25949588418006897, 0.17344215512275696, 0.17985664308071136, 0.18176588416099548, 0.22942988574504852, 0.1619754433631897, 0.15637072920799255, 0.12497676908969879, 0.2046443223953247, 0.15214353799819946, 0.13625362515449524, 0.29989323019981384, 0.133571058511734, 0.08731913566589355, 0.3622817397117615, 0.3174842894077301, 0.23234069347381592, 0.15416188538074493, 0.09145298600196838, 0.043015167117118835, 0.3760685622692108, 0.0307632889598608, 0.2206936478614807, 0.05600551515817642, 0.08618061244487762, 0.26344528794288635, 0.02039012871682644, 0.21716450154781342, 0.2059871256351471, 0.16474862396717072, 0.1676032543182373, 0.21117013692855835, 0.18571312725543976, 0.2692028880119324, 0.10067297518253326, 0.10596438497304916, 0.15334174036979675, 0.09370269626379013, 0.15408608317375183, 0.2595222592353821, 0.11563422530889511, 0.2605832815170288, 0.2449793964624405, 0.15277080237865448, 0.23031923174858093, 0.09322790801525116, 0.14116942882537842, 0.3656097650527954, 0.15061916410923004, 0.19921107590198517, 0.19584107398986816, 0.202198326587677, 0.2266353964805603, 0.08775787800550461, 0.11063094437122345, 0.34244415163993835, 0.14162874221801758, 0.079543836414814, 0.15698236227035522, 0.14106956124305725, 0.08168250322341919, 0.0688691958785057, 0.15479014813899994, 0.1350116729736328, 0.14346790313720703, 0.15359368920326233, 0.27483561635017395, 0.0950591191649437, 0.23317863047122955, 0.0569375641644001, 0.12112410366535187, 0.11489098519086838, 0.12153815478086472, 0.056639932096004486, 0.3438865542411804, 0.10671335458755493, 0.261362761259079, 0.34682977199554443, 0.15362554788589478, 0.19027692079544067, 0.1872342824935913, 0.10978008806705475, 0.2674538791179657, 0.10199996083974838, 0.15678691864013672, 0.13903109729290009, 0.21550075709819794, 0.18681883811950684, 0.0738929882645607, 0.09192470461130142, 0.16533568501472473, 0.08279921859502792, 0.3017422556877136, 0.0903787910938263, 0.13331720232963562, 0.14415451884269714, 0.22787387669086456, 0.05306938663125038, 0.2701784074306488, 0.16901567578315735, 0.24015234410762787, 0.11854293942451477, 0.11881698668003082, 0.2245122343301773, 0.21863260865211487, 0.22917719185352325, 0.1539159119129181, 0.14169582724571228, 0.22658367455005646, 0.17013956606388092, 0.06892790645360947, 0.32294005155563354, 0.23836983740329742, 0.27045705914497375, 0.12163318693637848, 0.24815809726715088, 0.21898266673088074, 0.15185515582561493, 0.15265201032161713, 0.1929444968700409, 0.17549288272857666, 0.1463194638490677, 0.2441738396883011, 0.2359176129102707, 0.12493765354156494, 0.23035705089569092, 0.062409404665231705, 0.26762425899505615, 0.05690201371908188, 0.4406870901584625, 0.06126048415899277, 0.19115781784057617, 0.2519000768661499, 0.15414997935295105, 0.08352465182542801, 0.47861403226852417, 0.13433937728405, 0.25322237610816956, 0.07713930308818817, 0.15343821048736572, 0.19980813562870026, 0.07978890836238861, 0.22357897460460663, 0.15698903799057007, 0.09911264479160309, 0.12769651412963867, 0.2732057273387909, 0.2159426510334015, 0.31617897748947144, 0.2661185562610626, 0.09744728356599808, 0.1416187286376953, 0.19956979155540466, 0.10710428655147552, 0.13155105710029602, 0.05967259407043457, 0.09480400383472443, 0.1357591599225998, 0.18854281306266785, 0.18597538769245148, 0.06263712793588638, 0.19264543056488037, 0.08497052639722824, 0.11902213096618652, 0.272257924079895, 0.12180617451667786, 0.34077131748199463, 0.16033552587032318, 0.3159615993499756, 0.22958965599536896, 0.09006385505199432, 0.16338002681732178, 0.1338798701763153, 0.3494504392147064, 0.2518966495990753, 0.29250380396842957, 0.17754343152046204, 0.20138980448246002, 0.3063635528087616, 0.11442087590694427, 0.24868983030319214, 0.24698449671268463, 0.060157183557748795, 0.07456495612859726, 0.2162197083234787, 0.14915134012699127, 0.07797087728977203, 0.185476154088974, 0.0611092746257782, 0.16833922266960144, 0.21500256657600403, 0.11053603142499924, 0.21450407803058624, 0.12428363412618637, 0.06591898202896118, 0.18015873432159424, 0.09466028958559036, 0.059709325432777405, 0.096626415848732, 0.07016174495220184, 0.17552202939987183, 0.1447276622056961, 0.20266157388687134, 0.058578118681907654, 0.07245956361293793, 0.38327786326408386, 0.2121586948633194, 0.11525394022464752, 0.1428527683019638, 0.10723283141851425, 0.2545419931411743, 0.302733838558197, 0.10247121006250381, 0.22016867995262146, 0.1528581976890564, 0.11359866708517075, 0.43568184971809387, 0.10370078682899475, 0.3601991832256317, 0.23084378242492676, 0.11879456788301468, 0.10977870970964432, 0.11271531134843826, 0.1382865309715271, 0.09642376750707626, 0.1422760784626007, 0.098618283867836, 0.16317929327487946, 0.3404458463191986, 0.19368046522140503, 0.25964444875717163, 0.056999143213033676, 0.1343698799610138, 0.17715299129486084, 0.06202412396669388, 0.08609462529420853, 0.16722755134105682, 0.13190338015556335, 0.07501745223999023, 0.18298225104808807, 0.08718383312225342, 0.1972387582063675, 0.22125275433063507, 0.06974280625581741, 0.06820829212665558, 0.16854169964790344, 0.051447585225105286, 0.2136712372303009, 0.20494228601455688, 0.5108790993690491, 0.11257916688919067, 0.10669621080160141, 0.1097009927034378, 0.2883507311344147, 0.21085864305496216, 0.17269308865070343, 0.17992915213108063, 0.26205214858055115, 0.26522308588027954, 0.1334833949804306, 0.13197609782218933, 0.18135230243206024, 0.1408262997865677, 0.13491098582744598, 0.14643073081970215, 0.142698273062706, 0.13438034057617188, 0.159216970205307, 0.11923348903656006, 0.08330801129341125, 0.09459009766578674, 0.19079619646072388, 0.12613913416862488, 0.1637452244758606, 0.05771492421627045, 0.09255967289209366, 0.1644572913646698, 0.20499762892723083, 0.1575751155614853, 0.0870552808046341, 0.28152886033058167, 0.1282428503036499, 0.10388469696044922, 0.08629950881004333, 0.05828704312443733, 0.21674445271492004, 0.12074797600507736, 0.4614914655685425, 0.48656606674194336, 0.194665789604187, 0.2789192199707031, 0.1491810828447342, 0.09391853958368301, 0.12763652205467224, 0.07770178467035294, 0.3597184717655182, 0.06556960940361023, 0.0729234367609024, 0.17684119939804077, 0.039153147488832474, 0.11747211962938309, 0.10195348411798477, 0.21392899751663208, 0.10796455293893814, 0.21138468384742737, 0.24084122478961945, 0.16997791826725006, 0.26539087295532227, 0.1516101360321045, 0.3283745050430298, 0.05227986350655556, 0.37984099984169006, 0.16839376091957092, 0.037742357701063156, 0.16346630454063416, 0.08256059139966965, 0.19208978116512299, 0.09378132969141006, 0.2539103329181671, 0.2325739562511444, 0.14958436787128448, 0.1087956428527832, 0.16015489399433136, 0.06350091099739075, 0.2749664783477783, 0.48636287450790405, 0.22493737936019897, 0.07043040543794632]\n",
      "[0, 60000, 120000, 180000]\n",
      "[2.3003866455078126, 0.19955584259033204, 0.12636006011962891, 0.0919875747680664, 0.09198759307861328, 0.08530596542358398, 0.07239100761413574, 0.06764433937072754, 0.06764433097839355, 0.06033382263183594, 0.05845750923156738, 0.053668147277832035, 0.053668159866333005, 0.04999950828552246, 0.04999950485229492, 0.049180496406555176, 0.049180482864379885, 0.04729386787414551]\n"
     ]
    }
   ],
   "source": [
    "print(len(train_counter))\n",
    "print(len(train_losses))\n",
    "print(len(test_counter))\n",
    "print(len(test_losses))\n",
    "print(train_counter)\n",
    "print(train_losses)\n",
    "print(test_counter)\n",
    "print(test_losses)"
   ]
  },
  {
   "cell_type": "code",
   "execution_count": 46,
   "metadata": {},
   "outputs": [
    {
     "ename": "ValueError",
     "evalue": "x and y must have same first dimension, but have shapes (4,) and (18,)",
     "output_type": "error",
     "traceback": [
      "\u001b[1;31m---------------------------------------------------------------------------\u001b[0m",
      "\u001b[1;31mValueError\u001b[0m                                Traceback (most recent call last)",
      "\u001b[1;32m<ipython-input-46-673c8b77e894>\u001b[0m in \u001b[0;36m<module>\u001b[1;34m\u001b[0m\n\u001b[0;32m      1\u001b[0m \u001b[0mfig\u001b[0m \u001b[1;33m=\u001b[0m \u001b[0mplt\u001b[0m\u001b[1;33m.\u001b[0m\u001b[0mfigure\u001b[0m\u001b[1;33m(\u001b[0m\u001b[1;33m)\u001b[0m\u001b[1;33m\u001b[0m\u001b[1;33m\u001b[0m\u001b[0m\n\u001b[0;32m      2\u001b[0m \u001b[0mplt\u001b[0m\u001b[1;33m.\u001b[0m\u001b[0mplot\u001b[0m\u001b[1;33m(\u001b[0m\u001b[0mtrain_counter\u001b[0m\u001b[1;33m,\u001b[0m \u001b[0mtrain_losses\u001b[0m\u001b[1;33m,\u001b[0m \u001b[0mcolor\u001b[0m\u001b[1;33m=\u001b[0m\u001b[1;34m'blue'\u001b[0m\u001b[1;33m)\u001b[0m\u001b[1;33m\u001b[0m\u001b[1;33m\u001b[0m\u001b[0m\n\u001b[1;32m----> 3\u001b[1;33m \u001b[0mplt\u001b[0m\u001b[1;33m.\u001b[0m\u001b[0mplot\u001b[0m\u001b[1;33m(\u001b[0m\u001b[0mtest_counter\u001b[0m\u001b[1;33m,\u001b[0m \u001b[0mtest_losses\u001b[0m\u001b[1;33m,\u001b[0m \u001b[0mcolor\u001b[0m\u001b[1;33m=\u001b[0m\u001b[1;34m'red'\u001b[0m\u001b[1;33m)\u001b[0m\u001b[1;33m\u001b[0m\u001b[1;33m\u001b[0m\u001b[0m\n\u001b[0m\u001b[0;32m      4\u001b[0m \u001b[0mplt\u001b[0m\u001b[1;33m.\u001b[0m\u001b[0mlegend\u001b[0m\u001b[1;33m(\u001b[0m\u001b[1;33m[\u001b[0m\u001b[1;34m'Train Loss'\u001b[0m\u001b[1;33m,\u001b[0m \u001b[1;34m'Test Loss'\u001b[0m\u001b[1;33m]\u001b[0m\u001b[1;33m,\u001b[0m \u001b[0mloc\u001b[0m\u001b[1;33m=\u001b[0m\u001b[1;34m'upper right'\u001b[0m\u001b[1;33m)\u001b[0m\u001b[1;33m\u001b[0m\u001b[1;33m\u001b[0m\u001b[0m\n\u001b[0;32m      5\u001b[0m \u001b[0mplt\u001b[0m\u001b[1;33m.\u001b[0m\u001b[0mxlabel\u001b[0m\u001b[1;33m(\u001b[0m\u001b[1;34m'number of training examples seen'\u001b[0m\u001b[1;33m)\u001b[0m\u001b[1;33m\u001b[0m\u001b[1;33m\u001b[0m\u001b[0m\n",
      "\u001b[1;32m~\\.conda\\envs\\Manning_Live_project_GPU\\lib\\site-packages\\matplotlib\\pyplot.py\u001b[0m in \u001b[0;36mplot\u001b[1;34m(scalex, scaley, data, *args, **kwargs)\u001b[0m\n\u001b[0;32m   2761\u001b[0m     return gca().plot(\n\u001b[0;32m   2762\u001b[0m         *args, scalex=scalex, scaley=scaley, **({\"data\": data} if data\n\u001b[1;32m-> 2763\u001b[1;33m         is not None else {}), **kwargs)\n\u001b[0m\u001b[0;32m   2764\u001b[0m \u001b[1;33m\u001b[0m\u001b[0m\n\u001b[0;32m   2765\u001b[0m \u001b[1;33m\u001b[0m\u001b[0m\n",
      "\u001b[1;32m~\\.conda\\envs\\Manning_Live_project_GPU\\lib\\site-packages\\matplotlib\\axes\\_axes.py\u001b[0m in \u001b[0;36mplot\u001b[1;34m(self, scalex, scaley, data, *args, **kwargs)\u001b[0m\n\u001b[0;32m   1645\u001b[0m         \"\"\"\n\u001b[0;32m   1646\u001b[0m         \u001b[0mkwargs\u001b[0m \u001b[1;33m=\u001b[0m \u001b[0mcbook\u001b[0m\u001b[1;33m.\u001b[0m\u001b[0mnormalize_kwargs\u001b[0m\u001b[1;33m(\u001b[0m\u001b[0mkwargs\u001b[0m\u001b[1;33m,\u001b[0m \u001b[0mmlines\u001b[0m\u001b[1;33m.\u001b[0m\u001b[0mLine2D\u001b[0m\u001b[1;33m)\u001b[0m\u001b[1;33m\u001b[0m\u001b[1;33m\u001b[0m\u001b[0m\n\u001b[1;32m-> 1647\u001b[1;33m         \u001b[0mlines\u001b[0m \u001b[1;33m=\u001b[0m \u001b[1;33m[\u001b[0m\u001b[1;33m*\u001b[0m\u001b[0mself\u001b[0m\u001b[1;33m.\u001b[0m\u001b[0m_get_lines\u001b[0m\u001b[1;33m(\u001b[0m\u001b[1;33m*\u001b[0m\u001b[0margs\u001b[0m\u001b[1;33m,\u001b[0m \u001b[0mdata\u001b[0m\u001b[1;33m=\u001b[0m\u001b[0mdata\u001b[0m\u001b[1;33m,\u001b[0m \u001b[1;33m**\u001b[0m\u001b[0mkwargs\u001b[0m\u001b[1;33m)\u001b[0m\u001b[1;33m]\u001b[0m\u001b[1;33m\u001b[0m\u001b[1;33m\u001b[0m\u001b[0m\n\u001b[0m\u001b[0;32m   1648\u001b[0m         \u001b[1;32mfor\u001b[0m \u001b[0mline\u001b[0m \u001b[1;32min\u001b[0m \u001b[0mlines\u001b[0m\u001b[1;33m:\u001b[0m\u001b[1;33m\u001b[0m\u001b[1;33m\u001b[0m\u001b[0m\n\u001b[0;32m   1649\u001b[0m             \u001b[0mself\u001b[0m\u001b[1;33m.\u001b[0m\u001b[0madd_line\u001b[0m\u001b[1;33m(\u001b[0m\u001b[0mline\u001b[0m\u001b[1;33m)\u001b[0m\u001b[1;33m\u001b[0m\u001b[1;33m\u001b[0m\u001b[0m\n",
      "\u001b[1;32m~\\.conda\\envs\\Manning_Live_project_GPU\\lib\\site-packages\\matplotlib\\axes\\_base.py\u001b[0m in \u001b[0;36m__call__\u001b[1;34m(self, *args, **kwargs)\u001b[0m\n\u001b[0;32m    214\u001b[0m                 \u001b[0mthis\u001b[0m \u001b[1;33m+=\u001b[0m \u001b[0margs\u001b[0m\u001b[1;33m[\u001b[0m\u001b[1;36m0\u001b[0m\u001b[1;33m]\u001b[0m\u001b[1;33m,\u001b[0m\u001b[1;33m\u001b[0m\u001b[1;33m\u001b[0m\u001b[0m\n\u001b[0;32m    215\u001b[0m                 \u001b[0margs\u001b[0m \u001b[1;33m=\u001b[0m \u001b[0margs\u001b[0m\u001b[1;33m[\u001b[0m\u001b[1;36m1\u001b[0m\u001b[1;33m:\u001b[0m\u001b[1;33m]\u001b[0m\u001b[1;33m\u001b[0m\u001b[1;33m\u001b[0m\u001b[0m\n\u001b[1;32m--> 216\u001b[1;33m             \u001b[1;32myield\u001b[0m \u001b[1;32mfrom\u001b[0m \u001b[0mself\u001b[0m\u001b[1;33m.\u001b[0m\u001b[0m_plot_args\u001b[0m\u001b[1;33m(\u001b[0m\u001b[0mthis\u001b[0m\u001b[1;33m,\u001b[0m \u001b[0mkwargs\u001b[0m\u001b[1;33m)\u001b[0m\u001b[1;33m\u001b[0m\u001b[1;33m\u001b[0m\u001b[0m\n\u001b[0m\u001b[0;32m    217\u001b[0m \u001b[1;33m\u001b[0m\u001b[0m\n\u001b[0;32m    218\u001b[0m     \u001b[1;32mdef\u001b[0m \u001b[0mget_next_color\u001b[0m\u001b[1;33m(\u001b[0m\u001b[0mself\u001b[0m\u001b[1;33m)\u001b[0m\u001b[1;33m:\u001b[0m\u001b[1;33m\u001b[0m\u001b[1;33m\u001b[0m\u001b[0m\n",
      "\u001b[1;32m~\\.conda\\envs\\Manning_Live_project_GPU\\lib\\site-packages\\matplotlib\\axes\\_base.py\u001b[0m in \u001b[0;36m_plot_args\u001b[1;34m(self, tup, kwargs)\u001b[0m\n\u001b[0;32m    340\u001b[0m \u001b[1;33m\u001b[0m\u001b[0m\n\u001b[0;32m    341\u001b[0m         \u001b[1;32mif\u001b[0m \u001b[0mx\u001b[0m\u001b[1;33m.\u001b[0m\u001b[0mshape\u001b[0m\u001b[1;33m[\u001b[0m\u001b[1;36m0\u001b[0m\u001b[1;33m]\u001b[0m \u001b[1;33m!=\u001b[0m \u001b[0my\u001b[0m\u001b[1;33m.\u001b[0m\u001b[0mshape\u001b[0m\u001b[1;33m[\u001b[0m\u001b[1;36m0\u001b[0m\u001b[1;33m]\u001b[0m\u001b[1;33m:\u001b[0m\u001b[1;33m\u001b[0m\u001b[1;33m\u001b[0m\u001b[0m\n\u001b[1;32m--> 342\u001b[1;33m             raise ValueError(f\"x and y must have same first dimension, but \"\n\u001b[0m\u001b[0;32m    343\u001b[0m                              f\"have shapes {x.shape} and {y.shape}\")\n\u001b[0;32m    344\u001b[0m         \u001b[1;32mif\u001b[0m \u001b[0mx\u001b[0m\u001b[1;33m.\u001b[0m\u001b[0mndim\u001b[0m \u001b[1;33m>\u001b[0m \u001b[1;36m2\u001b[0m \u001b[1;32mor\u001b[0m \u001b[0my\u001b[0m\u001b[1;33m.\u001b[0m\u001b[0mndim\u001b[0m \u001b[1;33m>\u001b[0m \u001b[1;36m2\u001b[0m\u001b[1;33m:\u001b[0m\u001b[1;33m\u001b[0m\u001b[1;33m\u001b[0m\u001b[0m\n",
      "\u001b[1;31mValueError\u001b[0m: x and y must have same first dimension, but have shapes (4,) and (18,)"
     ]
    },
    {
     "data": {
      "image/png": "[encoded data removed]",
      "text/plain": [
       "<Figure size 432x288 with 1 Axes>"
      ]
     },
     "metadata": {
      "needs_background": "light"
     },
     "output_type": "display_data"
    }
   ],
   "source": [
    "fig = plt.figure()\n",
    "plt.plot(train_counter, train_losses, color='blue')\n",
    "plt.plot(test_counter, test_losses, color='red')\n",
    "plt.legend(['Train Loss', 'Test Loss'], loc='upper right')\n",
    "plt.xlabel('number of training examples seen')\n",
    "plt.ylabel('negative log likelihood loss')\n",
    "fig"
   ]
  },
  {
   "cell_type": "code",
   "execution_count": null,
   "metadata": {},
   "outputs": [],
   "source": [
    "with torch.no_grad():\n",
    "  output = network(example_data)"
   ]
  },
  {
   "cell_type": "code",
   "execution_count": null,
   "metadata": {},
   "outputs": [],
   "source": [
    "continued_network = Net()\n",
    "continued_optimizer = optim.SGD(network.parameters(), lr=learning_rate,\n",
    "                                momentum=momentum)"
   ]
  },
  {
   "cell_type": "code",
   "execution_count": null,
   "metadata": {},
   "outputs": [],
   "source": [
    "network_state_dict = torch.load()\n",
    "continued_network.load_state_dict(network_state_dict)\n",
    "\n",
    "optimizer_state_dict = torch.load()\n",
    "continued_optimizer.load_state_dict(optimizer_state_dict)"
   ]
  },
  {
   "cell_type": "code",
   "execution_count": null,
   "metadata": {},
   "outputs": [],
   "source": [
    "for i in range(4,9):\n",
    "  test_counter.append(i*len(train_loader.dataset))\n",
    "  train(i)\n",
    "  test()"
   ]
  },
  {
   "cell_type": "code",
   "execution_count": null,
   "metadata": {},
   "outputs": [],
   "source": [
    "fig = plt.figure()\n",
    "plt.plot(train_counter, train_losses, color='blue')\n",
    "plt.scatter(test_counter, test_losses, color='red')\n",
    "plt.legend(['Train Loss', 'Test Loss'], loc='upper right')\n",
    "plt.xlabel('number of training examples seen')\n",
    "plt.ylabel('negative log likelihood loss')\n",
    "fig"
   ]
  },
  {
   "cell_type": "code",
   "execution_count": null,
   "metadata": {},
   "outputs": [],
   "source": [
    "import os\n",
    "os.getcwd()\n",
    "os.listdir()"
   ]
  },
  {
   "cell_type": "code",
   "execution_count": null,
   "metadata": {},
   "outputs": [],
   "source": [
    "torch.save(network.state_dict(), 'model.pth')\n"
   ]
  },
  {
   "cell_type": "code",
   "execution_count": null,
   "metadata": {},
   "outputs": [],
   "source": []
  }
 ],
 "metadata": {
  "kernelspec": {
   "display_name": "Python 3",
   "language": "python",
   "name": "python3"
  },
  "language_info": {
   "codemirror_mode": {
    "name": "ipython",
    "version": 3
   },
   "file_extension": ".py",
   "mimetype": "text/x-python",
   "name": "python",
   "nbconvert_exporter": "python",
   "pygments_lexer": "ipython3",
   "version": "3.6.10"
  }
 },
 "nbformat": 4,
 "nbformat_minor": 4
}
